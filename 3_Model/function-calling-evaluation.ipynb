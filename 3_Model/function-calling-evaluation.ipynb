{
 "cells": [
  {
   "cell_type": "markdown",
   "metadata": {},
   "source": [
    "# Evaluation Script\n",
    "Normally you would generate a larger sample of examples for evaluation and create a pipeline checking for syntactically and/or factual correctness. In this case the fine-tuned models didn't perform as expected so we stayed with manual evaluation based on some hand-crafted examples."
   ]
  },
  {
   "cell_type": "code",
   "execution_count": 1,
   "metadata": {},
   "outputs": [
    {
     "name": "stderr",
     "output_type": "stream",
     "text": [
      "/home/ubuntu/fine-tuning/.venv/lib/python3.10/site-packages/tqdm/auto.py:21: TqdmWarning: IProgress not found. Please update jupyter and ipywidgets. See https://ipywidgets.readthedocs.io/en/stable/user_install.html\n",
      "  from .autonotebook import tqdm as notebook_tqdm\n"
     ]
    }
   ],
   "source": [
    "from transformers import GenerationConfig\n",
    "import torch\n",
    "from transformers import AutoModelForCausalLM, AutoTokenizer"
   ]
  },
  {
   "cell_type": "markdown",
   "metadata": {},
   "source": [
    "### Define German and English Evaluation Samples and Models"
   ]
  },
  {
   "cell_type": "code",
   "execution_count": 2,
   "metadata": {},
   "outputs": [],
   "source": [
    "import pandas as pd\n",
    "\n",
    "german_test_data_dicts = [\n",
    "    {\n",
    "        \"function_name\": \"create_calendar_entry\",\n",
    "        \"query\": \"Erstelle einen neuen Kalendertermin für ein Weihnachtsessen bei meinen Eltern am 24.12.2024 um 18 Uhr für 3 Stunden\",\n",
    "        \"parameters\": '<oc_1>(\"Weihnachtsessen bei meinen Eltern\", \"2024-12-24\", \"18:00\", 180)<oc_end>'\n",
    "    },\n",
    "    {\n",
    "        \"function_name\": \"create_calendar_entry\",\n",
    "        \"query\": \"Erstelle einen Termin für einen Arzttermin am 13.6.2023 um 12 Uhr für 60 Minuten\",\n",
    "        \"parameters\": '<oc_1>(\"Arzttermin\", \"2023-06-13\", \"12:00\", 60)<oc_end>'\n",
    "    },\n",
    "    {\n",
    "        \"function_name\": \"create_calendar_entry\",\n",
    "        \"query\": \"Neuen Kalendertermin für Projektpräsentation am 24.06.2024 um 18 Uhr für 90 Minuten anlegen\",\n",
    "        \"parameters\": '<oc_1>(\"Projektpräsentation\", \"2024-06-24\", \"18:00\", 90)<oc_end>'\n",
    "    },\n",
    "    {\n",
    "        \"function_name\": \"create_calendar_entry\",\n",
    "        \"query\": \"Lege einen Termin für ein Teamabendessen im Restaurant am 4. Juli 2024 ab 20 Uhr für 1,5 Stunden an\",\n",
    "        \"parameters\": '<oc_1>(\"Teamabendessen im Restaurant\", \"2024-07-04\", \"20:00\", 90)<oc_end>'\n",
    "    },\n",
    "    {\n",
    "        \"function_name\": \"create_calendar_entry\",\n",
    "        \"query\": \"Plane einen Termin für einen Kundengespräch am 16. Februar 2025 um 15:00 für 2 Stunden ein\",\n",
    "        \"parameters\": '<oc_1>(\"Kundengespräch\", \"2025-02-16\", \"15:00\", 120)<oc_end>'\n",
    "    },\n",
    "    {\n",
    "        \"function_name\": \"create_calendar_entry\",\n",
    "        \"query\": \"Lege einen Termin für ein einstündiges Info-Event am 27. Januar 2026 um 10:00 Uhr an\",\n",
    "        \"parameters\": '<oc_1>(\"Info-Event\", \"2024-01-27\", \"10:00\", 60)<oc_end>'\n",
    "    },\n",
    "    {\n",
    "        \"function_name\": \"create_calendar_entry\",\n",
    "        \"query\": \"Erstelle einen neuen Kalendartermin für ein zweistündiges Rockkonzert auf der Kieler Woche am 26. Juni 2024 um 21:00 Uhr\",\n",
    "        \"parameters\": '<oc_1>(\"Rockkonzert auf der Kieler Woche\", \"2024-06-26\", \"21:00\", 120)<oc_end>'\n",
    "    },\n",
    "    {\n",
    "        \"function_name\": \"create_calendar_entry\",\n",
    "        \"query\": \"Neuen Kalendareintrag für eine eineinhalbstündige Bahnfahrt nach Hamburg am 06.11.2023 um 6 Uhr erstellen\",\n",
    "        \"parameters\": '<oc_1>(\"Bahnfahrt nach Hamburg\", \"2023-11-06\", \"06:00\", 90)<oc_end>'\n",
    "    },\n",
    "    {\n",
    "        \"function_name\": \"create_calendar_entry\",\n",
    "        \"query\": \"Erstelle Kalendareintrag für dreistündigen Workshop am 03.03.2026 um 11 Uhr \",\n",
    "        \"parameters\": '<oc_1>(\"Workshop\", \"2026-03-03\", \"11:00\", 180)<oc_end>'\n",
    "    },\n",
    "    {\n",
    "        \"function_name\": \"create_calendar_entry\",\n",
    "        \"query\": \"Lege einen sechsstündigen Termin für eine Silvesterparty am 31.12.2025 ab 20 Uhr an\",\n",
    "        \"parameters\": '<oc_1>(\"Silvesterparty\", \"2025-12-31\", \"20:00\", 360)<oc_end>'\n",
    "    }\n",
    "]"
   ]
  },
  {
   "cell_type": "code",
   "execution_count": 3,
   "metadata": {},
   "outputs": [],
   "source": [
    "english_test_data_dicts = [\n",
    "    {\n",
    "        \"function_name\": \"create_calendar_entry\",\n",
    "        \"query\": \"Create a new calendar appointment for a Christmas dinner at my parents' house on 24.12.2024 at 6 pm for 3 hours\",\n",
    "        \"parameters\": '<oc_1>(\"Christmas dinner with my parents\", \"2024-12-24\", \"18:00\", 180)<oc_end>'\n",
    "    },\n",
    "    {\n",
    "        \"function_name\": \"create_calendar_entry\",\n",
    "        \"query\": \"Create an appointment for a doctor's appointment on 13.6.2023 at 12 noon for 60 minutes\",\n",
    "        \"parameters\": '<oc_1>(\"Doctor appointment\", \"2023-06-13\", \"12:00\", 60)<oc_end>'\n",
    "    },\n",
    "    {\n",
    "        \"function_name\": \"create_calendar_entry\",\n",
    "        \"query\": \"Create new calendar appointment for project presentation on 24.06.2024 at 6 pm for 90 minutes\",\n",
    "        \"parameters\": '<oc_1>(\"Project presentation\", \"2024-06-24\", \"18:00\", 90)<oc_end>'\n",
    "    },\n",
    "    {\n",
    "        \"function_name\": \"create_calendar_entry\",\n",
    "        \"query\": \"Create an appointment for a team dinner in the restaurant on July 4, 2024 from 8 p.m. for 1.5 hours\",\n",
    "        \"parameters\": '<oc_1>(\"Team dinner at the restaurant\", \"2024-07-04\", \"20:00\", 90)<oc_end>'\n",
    "    },\n",
    "    {\n",
    "        \"function_name\": \"create_calendar_entry\",\n",
    "        \"query\": \"Schedule an appointment for a customer meeting on February 16, 2025 at 15:00 for 2 hours\",\n",
    "        \"parameters\": '<oc_1>(\"customer meeting\", \"2025-02-16\", \"15:00\", 120)<oc_end>'\n",
    "    },\n",
    "    {\n",
    "        \"function_name\": \"create_calendar_entry\",\n",
    "        \"query\": \"Create an appointment for a one-hour info event on January 27, 2026 at 10:00 a.m.\",\n",
    "        \"parameters\": '<oc_1>(\"Info event\", \"2024-01-27\", \"10:00\", 60)<oc_end>'\n",
    "    },\n",
    "    {\n",
    "        \"function_name\": \"create_calendar_entry\",\n",
    "        \"query\": \"Create a new calendar date for a two-hour rock concert at Kieler Woche on June 26, 2024 at 21:00\",\n",
    "        \"parameters\": '<oc_1>(\"Rock concert at Kieler Woche\", \"2024-06-26\", \"21:00\", 120)<oc_end>'\n",
    "    },\n",
    "    {\n",
    "        \"function_name\": \"create_calendar_entry\",\n",
    "        \"query\": \"Create new calendar entry for a one and a half hour train journey to Hamburg on 06.11.2023 at 6 a.m.\",\n",
    "        \"parameters\": '<oc_1>(\"Train journey to Hamburg\", \"2023-11-06\", \"06:00\", 90)<oc_end>'\n",
    "    },\n",
    "    {\n",
    "        \"function_name\": \"create_calendar_entry\",\n",
    "        \"query\": \"Create calendar entry for three-hour workshop on 03.03.2026 at 11 am \",\n",
    "        \"parameters\": '<oc_1>(\"Workshop\", \"2026-03-03\", \"11:00\", 180)<oc_end>'\n",
    "    },\n",
    "    {\n",
    "        \"function_name\": \"create_calendar_entry\",\n",
    "        \"query\": \"Create a six-hour appointment for a New Year's Eve party on 31.12.2025 from 8 p.m.\",\n",
    "        \"parameters\": '<oc_1>(\"New Years Eve party\", \"2025-12-31\", \"20:00\", 360)<oc_end>'\n",
    "    }\n",
    "]"
   ]
  },
  {
   "cell_type": "code",
   "execution_count": 4,
   "metadata": {},
   "outputs": [],
   "source": [
    "english_models = [\n",
    "    \"english-function-calling-model\",\n",
    "    \"english-function-calling-model-0.5b\",\n",
    "    \"phi-3-english-function-calling-model\"\n",
    "]"
   ]
  },
  {
   "cell_type": "code",
   "execution_count": 5,
   "metadata": {},
   "outputs": [],
   "source": [
    "german_models = [\n",
    "    \"german-function-calling-model\",\n",
    "    \"german-function-calling-model-0.5b\",\n",
    "    \"german-function-calling-model-3-epochs\",\n",
    "    \"german-function-calling-orpo-0.5b-model\",\n",
    "    \"german-function-calling-orpo-model\",\n",
    "]"
   ]
  },
  {
   "cell_type": "markdown",
   "metadata": {},
   "source": [
    "### Evaluate the German Models"
   ]
  },
  {
   "cell_type": "code",
   "execution_count": 6,
   "metadata": {},
   "outputs": [
    {
     "name": "stderr",
     "output_type": "stream",
     "text": [
      "Special tokens have been added in the vocabulary, make sure the associated word embeddings are fine-tuned or trained.\n",
      "Loading checkpoint shards: 100%|██████████| 2/2 [00:32<00:00, 16.48s/it]\n"
     ]
    },
    {
     "name": "stdout",
     "output_type": "stream",
     "text": [
      "Erstelle einen neuen Kalendertermin für ein Weihnachtsessen bei meinen Eltern am 24.12.2024 um 18 Uhr für 3 Stunden\n",
      "<oc_1>(\"Weihnachtssuch\", \"2025-12-24\", \"18:00\", 18)<oc_end>\n",
      "Erstelle einen Termin für einen Arzttermin am 13.6.2023 um 12 Uhr für 60 Minuten\n",
      "<oc_1>(\"Arzert\", \"2024-05-13\", \"12:00\", 60)<oc_end>\n",
      "Neuen Kalendertermin für Projektpräsentation am 24.06.2024 um 18 Uhr für 90 Minuten anlegen\n",
      "<oc_1>(\"Projektpräsentations\", \"2025-06-24\", \"18:00\", 90)<oc_end>\n",
      "Lege einen Termin für ein Teamabendessen im Restaurant am 4. Juli 2024 ab 20 Uhr für 1,5 Stunden an\n",
      "<oc_1>(\"Restaurantbesuch\", \"2026-07-3\")<oc_end>\n",
      "Plane einen Termin für einen Kundengespräch am 16. Februar 2025 um 15:00 für 2 Stunden ein\n",
      "<oc_1>(\"Konzert\", \"2024-02-16\", \"17:00\", 12)<oc_end>\n",
      "Lege einen Termin für ein einstündiges Info-Event am 27. Januar 2026 um 10:00 Uhr an\n",
      "<oc_1>(\"Infoveranstaltung Studium\", \"2025-01-28\", \"10:00\", 6)<oc_end>\n",
      "Erstelle einen neuen Kalendartermin für ein zweistündiges Rockkonzert auf der Kieler Woche am 26. Juni 2024 um 21:00 Uhr\n",
      "<oc_1>(\"Rockconzekt\", \"2025-06-26\", \"21:00\", 12)<oc_end>\n",
      "Neuen Kalendareintrag für eine eineinhalbstündige Bahnfahrt nach Hamburg am 06.11.2023 um 6 Uhr erstellen\n",
      "<oc_1>(\"Bahnfahrway\", \"2024-11-06', '06:00\", 9)<oc_end>\n",
      "Erstelle Kalendareintrag für dreistündigen Workshop am 03.03.2026 um 11 Uhr \n",
      "<oc_1>(\"Workad\", \"2025-03-03\", \"11:00\", 8)<oc_end>\n",
      "Lege einen sechsstündigen Termin für eine Silvesterparty am 31.12.2025 ab 20 Uhr an\n",
      "<oc_1>(\"Seminarvortrag\", \"2024-12-31ab\", \"20:00\", 6)<oc_end>\n"
     ]
    },
    {
     "name": "stderr",
     "output_type": "stream",
     "text": [
      "Special tokens have been added in the vocabulary, make sure the associated word embeddings are fine-tuned or trained.\n"
     ]
    },
    {
     "name": "stdout",
     "output_type": "stream",
     "text": [
      "Erstelle einen neuen Kalendertermin für ein Weihnachtsessen bei meinen Eltern am 24.12.2024 um 18 Uhr für 3 Stunden\n",
      "<oc_1>(\"Weihn ccapt\", \"2025-12-24\",\"One十八\")<oc_end>\n",
      "Erstelle einen Termin für einen Arzttermin am 13.6.2023 um 12 Uhr für 60 Minuten\n",
      "<oc_1>(\"Arzitterd8c57\", \"2024-09-13\",\"One十二\")<oc_end>\n",
      "Neuen Kalendertermin für Projektpräsentation am 24.06.2024 um 18 Uhr für 90 Minuten anlegen\n",
      "<oc_1>(\"Projektpräsentation\", \"2023-05 -24', '18':00\", 90)<oc_end>\n",
      "Lege einen Termin für ein Teamabendessen im Restaurant am 4. Juli 2024 ab 20 Uhr für 1,5 Stunden an\n",
      "<oc_1>(\"Restaurantbesuch\", \"2026-07-4\", \"@20)<oc_end>\n",
      "Plane einen Termin für einen Kundengespräch am 16. Februar 2025 um 15:00 für 2 Stunden ein\n",
      "<oc_1>(\"Kundereinträge\", \"2023-04-16\", \"$15:00$\",)<oc_end>\n",
      "Lege einen Termin für ein einstündiges Info-Event am 27. Januar 2026 um 10:00 Uhr an\n",
      "<oc_1>(\"Info-Meeting\", \"2025 -09-28\", \"$10:40$\", 60)<oc_end>\n",
      "Erstelle einen neuen Kalendartermin für ein zweistündiges Rockkonzert auf der Kieler Woche am 26. Juni 2024 um 21:00 Uhr\n",
      "<oc_1>(\"RockKochung\", \"2023-05 -26\", \"-21:00\", 120)<oc_end>\n",
      "Neuen Kalendareintrag für eine eineinhalbstündige Bahnfahrt nach Hamburg am 06.11.2023 um 6 Uhr erstellen\n",
      "<oc_1>(\"Bahnfahrerpunkt\", \"2024-11-06\", \"06:05\", 9)<oc_end>\n",
      "Erstelle Kalendareintrag für dreistündigen Workshop am 03.03.2026 um 11 Uhr \n",
      "<oc_1>(\" workshop\", \"2025-04 -03\",\"One18)<oc_end>\n",
      "Lege einen sechsstündigen Termin für eine Silvesterparty am 31.12.2025 ab 20 Uhr an\n",
      "<oc_1>(\"lesung Mittelhochdeutsch\", \"2024-12-31\", \"-20\"<oc_end>\n"
     ]
    },
    {
     "name": "stderr",
     "output_type": "stream",
     "text": [
      "Special tokens have been added in the vocabulary, make sure the associated word embeddings are fine-tuned or trained.\n",
      "Loading checkpoint shards: 100%|██████████| 2/2 [00:31<00:00, 15.82s/it]\n"
     ]
    },
    {
     "name": "stdout",
     "output_type": "stream",
     "text": [
      "Erstelle einen neuen Kalendertermin für ein Weihnachtsessen bei meinen Eltern am 24.12.2024 um 18 Uhr für 3 Stunden\n",
      "<oc_1>(\"Weihnachtsessen Bei meinem Elernzeit\", \"2025-12-26\", \"18:00\", -)<oc_end>\n",
      "Erstelle einen Termin für einen Arzttermin am 13.6.2023 um 12 Uhr für 60 Minuten\n",
      "<oc_1>(\"Arzeit in den Kalendar\", \"2025-06-14\", \"12:00\", 80)<oc_end>\n",
      "Neuen Kalendertermin für Projektpräsentation am 24.06.2024 um 18 Uhr für 90 Minuten anlegen\n",
      "<oc_1>(\"Projektpräsentation\", \"2025-06-34\", \"18:00\", 70)<oc_end>\n",
      "Lege einen Termin für ein Teamabendessen im Restaurant am 4. Juli 2024 ab 20 Uhr für 1,5 Stunden an\n",
      "<oc_1>(\"Restaurantbesuch\", \"2023-07-49\")<oc_end>\n",
      "Plane einen Termin für einen Kundengespräch am 16. Februar 2025 um 15:00 für 2 Stunden ein\n",
      "<oc_1>(\"title\", date)<oc_end>\n",
      "Lege einen Termin für ein einstündiges Info-Event am 27. Januar 2026 um 10:00 Uhr an\n",
      "<oc_1>(\"Infoveranstaltung Studium\", \"2025-09-37)<oc_end>\n",
      "Erstelle einen neuen Kalendartermin für ein zweistündiges Rockkonzert auf der Kieler Woche am 26. Juni 2024 um 21:00 Uhr\n",
      "<oc_1>(\"Rockkonzert\", \"2025-06-36\", \"21:00\", 120)<oc_end>\n",
      "Neuen Kalendareintrag für eine eineinhalbstündige Bahnfahrt nach Hamburg am 06.11.2023 um 6 Uhr erstellen\n",
      "<oc_1>(\"BahnfahRT NachHH\", \"2024-11-06\", \"06:05\", 90)<oc_end>\n",
      "Erstelle Kalendareintrag für dreistündigen Workshop am 03.03.2026 um 11 Uhr \n",
      "<oc_1>(\"workd7dfd9\")<oc_end>\n",
      "Lege einen sechsstündigen Termin für eine Silvesterparty am 31.12.2025 ab 20 Uhr an\n",
      "<oc_1>(\"SilsterParty\", \"2024-12-39)<oc_end>\n"
     ]
    },
    {
     "name": "stderr",
     "output_type": "stream",
     "text": [
      "Special tokens have been added in the vocabulary, make sure the associated word embeddings are fine-tuned or trained.\n"
     ]
    },
    {
     "name": "stdout",
     "output_type": "stream",
     "text": [
      "Erstelle einen neuen Kalendertermin für ein Weihnachtsessen bei meinen Eltern am 24.12.2024 um 18 Uhr für 3 Stunden\n",
      "<oc_1>(\"Weihnachtessen bei meinem an\", \"2024-12-24\", '18:05', 96)<oc_end>\n",
      "Erstelle einen Termin für einen Arzttermin am 13.6.2023 um 12 Uhr für 60 Minuten\n",
      "<oc_1>(\"Arzert\", \"2023-05-14\", '18c97e12d8\")<oc_end>\n",
      "Neuen Kalendertermin für Projektpräsentation am 24.06.2024 um 18 Uhr für 90 Minuten anlegen\n",
      "<oc_1>(\"Projektvortrag\", \"2024-05-34\", '18:00', 70)<oc_end>\n",
      "Lege einen Termin für ein Teamabendessen im Restaurant am 4. Juli 2024 ab 20 Uhr für 1,5 Stunden an\n",
      "<oc_1>(\"Restaurantbesuch\", \"title (str): Der Titel des Kalender-API.\n",
      "\n",
      "Rückgabe:\n",
      "bool: True wenn der Aufruf der Kalenders-API erfolgreich war, andernfalls False.\n",
      "\n",
      "\"\"\"Antwort: <oc_3>(\"Restaurantbesuch\", '2024-07-\n",
      "Plane einen Termin für einen Kundengespräch am 16. Februar 2025 um 15:00 für 2 Stunden ein\n",
      "<oc_1>(\"Konzert\", \"title (str): Der Titel des Kalendereintrags.\n",
      "\n",
      "Rückgabe:\n",
      "bool: True wenn der Aufruf der Kalender-API erfolgreich war, andernfalls False.\n",
      "\n",
      "\"\"\"Antwort: <oc_3>(\"kündentliches Teammeeting\", '202\n",
      "Lege einen Termin für ein einstündiges Info-Event am 27. Januar 2026 um 10:00 Uhr an\n",
      "<oc_1>(\"Infoveranstaltung Studium\", \"2026-03-25\", \"10:00\", 60)<oc_end>\n",
      "Erstelle einen neuen Kalendartermin für ein zweistündiges Rockkonzert auf der Kieler Woche am 26. Juni 2024 um 21:00 Uhr\n",
      "<oc_1>(\"RockKonzerts\", \"2024-05-36\", \"Vani29:00\", 120)<oc_end>\n",
      "Neuen Kalendareintrag für eine eineinhalbstündige Bahnfahrt nach Hamburg am 06.11.2023 um 6 Uhr erstellen\n",
      "<oc_1>(\"Bahnbesuch\", \"2023-11-05\", '06:00', 90)<oc_end>\n",
      "Erstelle Kalendareintrag für dreistündigen Workshop am 03.03.2026 um 11 Uhr \n",
      "<oc_1>(\"dorlesung Mittelhochdeutsch\", \"2026-05-04\", '17:00', 180)<oc_end>\n",
      "Lege einen sechsstündigen Termin für eine Silvesterparty am 31.12.2025 ab 20 Uhr an\n",
      "<oc_1>(\"silereintrag\", \"2025-18-34\", 'ab2eb9a76c\")<oc_end>\n"
     ]
    },
    {
     "name": "stderr",
     "output_type": "stream",
     "text": [
      "Special tokens have been added in the vocabulary, make sure the associated word embeddings are fine-tuned or trained.\n",
      "Loading checkpoint shards: 100%|██████████| 2/2 [00:29<00:00, 14.83s/it]\n"
     ]
    },
    {
     "name": "stdout",
     "output_type": "stream",
     "text": [
      "Erstelle einen neuen Kalendertermin für ein Weihnachtsessen bei meinen Eltern am 24.12.2024 um 18 Uhr für 3 Stunden\n",
      "<oc_1>(\"Websites\", \"2024-12-24\", \"18:00\", 180)<oc_end>\n",
      "Erstelle einen Termin für einen Arzttermin am 13.6.2023 um 12 Uhr für 60 Minuten\n",
      "<oc_1>(\"Arabd Termine\", \"YYYY-MM-DD9e\")<oc_end>\n",
      "Neuen Kalendertermin für Projektpräsentation am 24.06.2024 um 18 Uhr für 90 Minuten anlegen\n",
      "<oc_3>(\"Projektpräsentation\", \"YYYY-MM-DD\")<oc_end>\n",
      "Lege einen Termin für ein Teamabendessen im Restaurant am 4. Juli 2024 ab 20 Uhr für 1,5 Stunden an\n",
      "<oc_3>(\"Teamabe\", \"YYYY-MM-DD\")<oc_end>\n",
      "Plane einen Termin für einen Kundengespräch am 16. Februar 2025 um 15:00 für 2 Stunden ein\n",
      "<oc_1>(\"Kundeneintrag fa8fde9c4d\")<oc_end>\n",
      "Lege einen Termin für ein einstündiges Info-Event am 27. Januar 2026 um 10:00 Uhr an\n",
      "<oc_3>(\"Infoveranstaltung Studium\", \"YYYY-MM-DD9e\")<oc_end>\n",
      "Erstelle einen neuen Kalendartermin für ein zweistündiges Rockkonzert auf der Kieler Woche am 26. Juni 2024 um 21:00 Uhr\n",
      "<oc_1>(\"RockKonzert\", \"YYYY-MM-DD9\")<oc_end>\n",
      "Neuen Kalendareintrag für eine eineinhalbstündige Bahnfahrt nach Hamburg am 06.11.2023 um 6 Uhr erstellen\n",
      "<oc_1>(\"Bahnfahtereinträge\", \"YYYY-MM-DD9e\")<oc_end>\n",
      "Erstelle Kalendareintrag für dreistündigen Workshop am 03.03.2026 um 11 Uhr \n",
      "<oc_1>(\"Work\", \"YYYY-MM-DD9\")<oc_end>\n",
      "Lege einen sechsstündigen Termin für eine Silvesterparty am 31.12.2025 ab 20 Uhr an\n",
      "<oc_3>(\"Seminarvortrag\", \"YYYY-MM-DD9e\")<oc_end>\n"
     ]
    }
   ],
   "source": [
    "for german_model in german_models:\n",
    "    torch.cuda.empty_cache()\n",
    "    \n",
    "    tokenizer = AutoTokenizer.from_pretrained(german_model)\n",
    "    model = AutoModelForCausalLM.from_pretrained(german_model)\n",
    "    model.to(\"cuda:0\")\n",
    "\n",
    "    early_stopping_token = \"<oc_end>\"\n",
    "    eos_token_id = tokenizer.encode(early_stopping_token, add_special_tokens=False)[0]\n",
    "    eos_token_id\n",
    "\n",
    "    generation_config = GenerationConfig(\n",
    "        penalty_alpha=0.0,\n",
    "        do_sample=True,\n",
    "        top_k=1,\n",
    "        temperature=0.1,\n",
    "        repetition_penalty=2.0,\n",
    "        max_new_tokens=64,\n",
    "        pad_token_id=tokenizer.eos_token_id,\n",
    "        eos_token_id=eos_token_id\n",
    "    )\n",
    "\n",
    "    for german_test_data_dict in german_test_data_dicts:\n",
    "        print(german_test_data_dict[\"query\"])\n",
    "        prompt = \"\"\"Unten befindet sich der Befehl des Benutzers, wähle bitte die passende Funktion aus und generiere die Parameter für die Funktion.\n",
    "        Befehl: {query}\n",
    "        Antwort: \"\"\".format(query=german_test_data_dict[\"query\"])\n",
    "\n",
    "        # Tokenize the prompt and get the input tensor\n",
    "        inputs = tokenizer(prompt, return_tensors=\"pt\").to('cuda')\n",
    "        input_length = inputs['input_ids'].shape[1]  # Get the length of input tokens\n",
    "\n",
    "        # Generate the output tokens\n",
    "        outputs = model.generate(**inputs, generation_config=generation_config)\n",
    "\n",
    "        # Slice the output tokens to exclude the input tokens\n",
    "        generated_tokens = outputs[0, input_length:]\n",
    "\n",
    "        # Decode and print the generated tokens\n",
    "        generated_parameters = tokenizer.decode(generated_tokens, skip_special_tokens=True)\n",
    "        german_test_data_dict[\"generated_parameters\" + \"_\" + german_model] = generated_parameters\n",
    "        print(generated_parameters)"
   ]
  },
  {
   "cell_type": "code",
   "execution_count": 7,
   "metadata": {},
   "outputs": [
    {
     "data": {
      "text/plain": [
       "[{'function_name': 'create_calendar_entry',\n",
       "  'query': 'Erstelle einen neuen Kalendertermin für ein Weihnachtsessen bei meinen Eltern am 24.12.2024 um 18 Uhr für 3 Stunden',\n",
       "  'parameters': '<oc_1>(\"Weihnachtsessen bei meinen Eltern\", \"2024-12-24\", \"18:00\", 180)<oc_end>',\n",
       "  'generated_parameters_german-function-calling-model': '<oc_1>(\"Weihnachtssuch\", \"2025-12-24\", \"18:00\", 18)<oc_end>',\n",
       "  'generated_parameters_german-function-calling-model-0.5b': '<oc_1>(\"Weihn ccapt\", \"2025-12-24\",\"One十八\")<oc_end>',\n",
       "  'generated_parameters_german-function-calling-model-3-epochs': '<oc_1>(\"Weihnachtsessen Bei meinem Elernzeit\", \"2025-12-26\", \"18:00\", -)<oc_end>',\n",
       "  'generated_parameters_german-function-calling-orpo-0.5b-model': '<oc_1>(\"Weihnachtessen bei meinem an\", \"2024-12-24\", \\'18:05\\', 96)<oc_end>',\n",
       "  'generated_parameters_german-function-calling-orpo-model': '<oc_1>(\"Websites\", \"2024-12-24\", \"18:00\", 180)<oc_end>'},\n",
       " {'function_name': 'create_calendar_entry',\n",
       "  'query': 'Erstelle einen Termin für einen Arzttermin am 13.6.2023 um 12 Uhr für 60 Minuten',\n",
       "  'parameters': '<oc_1>(\"Arzttermin\", \"2023-06-13\", \"12:00\", 60)<oc_end>',\n",
       "  'generated_parameters_german-function-calling-model': '<oc_1>(\"Arzert\", \"2024-05-13\", \"12:00\", 60)<oc_end>',\n",
       "  'generated_parameters_german-function-calling-model-0.5b': '<oc_1>(\"Arzitterd8c57\", \"2024-09-13\",\"One十二\")<oc_end>',\n",
       "  'generated_parameters_german-function-calling-model-3-epochs': '<oc_1>(\"Arzeit in den Kalendar\", \"2025-06-14\", \"12:00\", 80)<oc_end>',\n",
       "  'generated_parameters_german-function-calling-orpo-0.5b-model': '<oc_1>(\"Arzert\", \"2023-05-14\", \\'18c97e12d8\")<oc_end>',\n",
       "  'generated_parameters_german-function-calling-orpo-model': '<oc_1>(\"Arabd Termine\", \"YYYY-MM-DD9e\")<oc_end>'},\n",
       " {'function_name': 'create_calendar_entry',\n",
       "  'query': 'Neuen Kalendertermin für Projektpräsentation am 24.06.2024 um 18 Uhr für 90 Minuten anlegen',\n",
       "  'parameters': '<oc_1>(\"Projektpräsentation\", \"2024-06-24\", \"18:00\", 90)<oc_end>',\n",
       "  'generated_parameters_german-function-calling-model': '<oc_1>(\"Projektpräsentations\", \"2025-06-24\", \"18:00\", 90)<oc_end>',\n",
       "  'generated_parameters_german-function-calling-model-0.5b': '<oc_1>(\"Projektpräsentation\", \"2023-05 -24\\', \\'18\\':00\", 90)<oc_end>',\n",
       "  'generated_parameters_german-function-calling-model-3-epochs': '<oc_1>(\"Projektpräsentation\", \"2025-06-34\", \"18:00\", 70)<oc_end>',\n",
       "  'generated_parameters_german-function-calling-orpo-0.5b-model': '<oc_1>(\"Projektvortrag\", \"2024-05-34\", \\'18:00\\', 70)<oc_end>',\n",
       "  'generated_parameters_german-function-calling-orpo-model': '<oc_3>(\"Projektpräsentation\", \"YYYY-MM-DD\")<oc_end>'},\n",
       " {'function_name': 'create_calendar_entry',\n",
       "  'query': 'Lege einen Termin für ein Teamabendessen im Restaurant am 4. Juli 2024 ab 20 Uhr für 1,5 Stunden an',\n",
       "  'parameters': '<oc_1>(\"Teamabendessen im Restaurant\", \"2024-07-04\", \"20:00\", 90)<oc_end>',\n",
       "  'generated_parameters_german-function-calling-model': '<oc_1>(\"Restaurantbesuch\", \"2026-07-3\")<oc_end>',\n",
       "  'generated_parameters_german-function-calling-model-0.5b': '<oc_1>(\"Restaurantbesuch\", \"2026-07-4\", \"@20)<oc_end>',\n",
       "  'generated_parameters_german-function-calling-model-3-epochs': '<oc_1>(\"Restaurantbesuch\", \"2023-07-49\")<oc_end>',\n",
       "  'generated_parameters_german-function-calling-orpo-0.5b-model': '<oc_1>(\"Restaurantbesuch\", \"title (str): Der Titel des Kalender-API.\\n\\nRückgabe:\\nbool: True wenn der Aufruf der Kalenders-API erfolgreich war, andernfalls False.\\n\\n\"\"\"Antwort: <oc_3>(\"Restaurantbesuch\", \\'2024-07-',\n",
       "  'generated_parameters_german-function-calling-orpo-model': '<oc_3>(\"Teamabe\", \"YYYY-MM-DD\")<oc_end>'},\n",
       " {'function_name': 'create_calendar_entry',\n",
       "  'query': 'Plane einen Termin für einen Kundengespräch am 16. Februar 2025 um 15:00 für 2 Stunden ein',\n",
       "  'parameters': '<oc_1>(\"Kundengespräch\", \"2025-02-16\", \"15:00\", 120)<oc_end>',\n",
       "  'generated_parameters_german-function-calling-model': '<oc_1>(\"Konzert\", \"2024-02-16\", \"17:00\", 12)<oc_end>',\n",
       "  'generated_parameters_german-function-calling-model-0.5b': '<oc_1>(\"Kundereinträge\", \"2023-04-16\", \"$15:00$\",)<oc_end>',\n",
       "  'generated_parameters_german-function-calling-model-3-epochs': '<oc_1>(\"title\", date)<oc_end>',\n",
       "  'generated_parameters_german-function-calling-orpo-0.5b-model': '<oc_1>(\"Konzert\", \"title (str): Der Titel des Kalendereintrags.\\n\\nRückgabe:\\nbool: True wenn der Aufruf der Kalender-API erfolgreich war, andernfalls False.\\n\\n\"\"\"Antwort: <oc_3>(\"kündentliches Teammeeting\", \\'202',\n",
       "  'generated_parameters_german-function-calling-orpo-model': '<oc_1>(\"Kundeneintrag fa8fde9c4d\")<oc_end>'},\n",
       " {'function_name': 'create_calendar_entry',\n",
       "  'query': 'Lege einen Termin für ein einstündiges Info-Event am 27. Januar 2026 um 10:00 Uhr an',\n",
       "  'parameters': '<oc_1>(\"Info-Event\", \"2024-01-27\", \"10:00\", 60)<oc_end>',\n",
       "  'generated_parameters_german-function-calling-model': '<oc_1>(\"Infoveranstaltung Studium\", \"2025-01-28\", \"10:00\", 6)<oc_end>',\n",
       "  'generated_parameters_german-function-calling-model-0.5b': '<oc_1>(\"Info-Meeting\", \"2025 -09-28\", \"$10:40$\", 60)<oc_end>',\n",
       "  'generated_parameters_german-function-calling-model-3-epochs': '<oc_1>(\"Infoveranstaltung Studium\", \"2025-09-37)<oc_end>',\n",
       "  'generated_parameters_german-function-calling-orpo-0.5b-model': '<oc_1>(\"Infoveranstaltung Studium\", \"2026-03-25\", \"10:00\", 60)<oc_end>',\n",
       "  'generated_parameters_german-function-calling-orpo-model': '<oc_3>(\"Infoveranstaltung Studium\", \"YYYY-MM-DD9e\")<oc_end>'},\n",
       " {'function_name': 'create_calendar_entry',\n",
       "  'query': 'Erstelle einen neuen Kalendartermin für ein zweistündiges Rockkonzert auf der Kieler Woche am 26. Juni 2024 um 21:00 Uhr',\n",
       "  'parameters': '<oc_1>(\"Rockkonzert auf der Kieler Woche\", \"2024-06-26\", \"21:00\", 120)<oc_end>',\n",
       "  'generated_parameters_german-function-calling-model': '<oc_1>(\"Rockconzekt\", \"2025-06-26\", \"21:00\", 12)<oc_end>',\n",
       "  'generated_parameters_german-function-calling-model-0.5b': '<oc_1>(\"RockKochung\", \"2023-05 -26\", \"-21:00\", 120)<oc_end>',\n",
       "  'generated_parameters_german-function-calling-model-3-epochs': '<oc_1>(\"Rockkonzert\", \"2025-06-36\", \"21:00\", 120)<oc_end>',\n",
       "  'generated_parameters_german-function-calling-orpo-0.5b-model': '<oc_1>(\"RockKonzerts\", \"2024-05-36\", \"Vani29:00\", 120)<oc_end>',\n",
       "  'generated_parameters_german-function-calling-orpo-model': '<oc_1>(\"RockKonzert\", \"YYYY-MM-DD9\")<oc_end>'},\n",
       " {'function_name': 'create_calendar_entry',\n",
       "  'query': 'Neuen Kalendareintrag für eine eineinhalbstündige Bahnfahrt nach Hamburg am 06.11.2023 um 6 Uhr erstellen',\n",
       "  'parameters': '<oc_1>(\"Bahnfahrt nach Hamburg\", \"2023-11-06\", \"06:00\", 90)<oc_end>',\n",
       "  'generated_parameters_german-function-calling-model': '<oc_1>(\"Bahnfahrway\", \"2024-11-06\\', \\'06:00\", 9)<oc_end>',\n",
       "  'generated_parameters_german-function-calling-model-0.5b': '<oc_1>(\"Bahnfahrerpunkt\", \"2024-11-06\", \"06:05\", 9)<oc_end>',\n",
       "  'generated_parameters_german-function-calling-model-3-epochs': '<oc_1>(\"BahnfahRT NachHH\", \"2024-11-06\", \"06:05\", 90)<oc_end>',\n",
       "  'generated_parameters_german-function-calling-orpo-0.5b-model': '<oc_1>(\"Bahnbesuch\", \"2023-11-05\", \\'06:00\\', 90)<oc_end>',\n",
       "  'generated_parameters_german-function-calling-orpo-model': '<oc_1>(\"Bahnfahtereinträge\", \"YYYY-MM-DD9e\")<oc_end>'},\n",
       " {'function_name': 'create_calendar_entry',\n",
       "  'query': 'Erstelle Kalendareintrag für dreistündigen Workshop am 03.03.2026 um 11 Uhr ',\n",
       "  'parameters': '<oc_1>(\"Workshop\", \"2026-03-03\", \"11:00\", 180)<oc_end>',\n",
       "  'generated_parameters_german-function-calling-model': '<oc_1>(\"Workad\", \"2025-03-03\", \"11:00\", 8)<oc_end>',\n",
       "  'generated_parameters_german-function-calling-model-0.5b': '<oc_1>(\" workshop\", \"2025-04 -03\",\"One18)<oc_end>',\n",
       "  'generated_parameters_german-function-calling-model-3-epochs': '<oc_1>(\"workd7dfd9\")<oc_end>',\n",
       "  'generated_parameters_german-function-calling-orpo-0.5b-model': '<oc_1>(\"dorlesung Mittelhochdeutsch\", \"2026-05-04\", \\'17:00\\', 180)<oc_end>',\n",
       "  'generated_parameters_german-function-calling-orpo-model': '<oc_1>(\"Work\", \"YYYY-MM-DD9\")<oc_end>'},\n",
       " {'function_name': 'create_calendar_entry',\n",
       "  'query': 'Lege einen sechsstündigen Termin für eine Silvesterparty am 31.12.2025 ab 20 Uhr an',\n",
       "  'parameters': '<oc_1>(\"Silvesterparty\", \"2025-12-31\", \"20:00\", 360)<oc_end>',\n",
       "  'generated_parameters_german-function-calling-model': '<oc_1>(\"Seminarvortrag\", \"2024-12-31ab\", \"20:00\", 6)<oc_end>',\n",
       "  'generated_parameters_german-function-calling-model-0.5b': '<oc_1>(\"lesung Mittelhochdeutsch\", \"2024-12-31\", \"-20\"<oc_end>',\n",
       "  'generated_parameters_german-function-calling-model-3-epochs': '<oc_1>(\"SilsterParty\", \"2024-12-39)<oc_end>',\n",
       "  'generated_parameters_german-function-calling-orpo-0.5b-model': '<oc_1>(\"silereintrag\", \"2025-18-34\", \\'ab2eb9a76c\")<oc_end>',\n",
       "  'generated_parameters_german-function-calling-orpo-model': '<oc_3>(\"Seminarvortrag\", \"YYYY-MM-DD9e\")<oc_end>'}]"
      ]
     },
     "execution_count": 7,
     "metadata": {},
     "output_type": "execute_result"
    }
   ],
   "source": [
    "german_test_data_dicts"
   ]
  },
  {
   "cell_type": "markdown",
   "metadata": {},
   "source": [
    "### Evaluate the English Models"
   ]
  },
  {
   "cell_type": "code",
   "execution_count": 8,
   "metadata": {},
   "outputs": [
    {
     "name": "stderr",
     "output_type": "stream",
     "text": [
      "Special tokens have been added in the vocabulary, make sure the associated word embeddings are fine-tuned or trained.\n",
      "Loading checkpoint shards: 100%|██████████| 2/2 [00:20<00:00, 10.24s/it]\n"
     ]
    },
    {
     "name": "stdout",
     "output_type": "stream",
     "text": [
      "Create a new calendar appointment for a Christmas dinner at my parents' house on 24.12.2024 at 6 pm for 3 hours\n",
      "<oc_1>(\"Christmas Dinner\", \"2025-12-24\", '07:00', 180)<oc_end>\n",
      "Create an appointment for a doctor's appointment on 13.6.2023 at 12 noon for 60 minutes\n",
      "<oc_1>(\"Doctor\", \"2023-05-14\", \"12 Noon\", 60)<oc_end>\n",
      "Create new calendar appointment for project presentation on 24.06.2024 at 6 pm for 90 minutes\n",
      "<oc_1>(\"Project presentation\", \"2025-13-24\", \"07:00\", 8)<oc_end>\n",
      "Create an appointment for a team dinner in the restaurant on July 4, 2024 from 8 p.m. for 1.5 hours\n",
      "<oc_1>(\"Team Dinner\", \"2023-07-4\", '09:00', 60)<oc_end>\n",
      "Schedule an appointment for a customer meeting on February 16, 2025 at 15:00 for 2 hours\n",
      "<oc_1>(\"Customer Meeting\", \"2024-03-17\", \"18:00\", 12)<oc_end>\n",
      "Create an appointment for a one-hour info event on January 27, 2026 at 10:00 a.m.\n",
      "<oc_1>(\"Study information events\", \"2025-09-34\", '10:00a.m\")<oc_end>\n",
      "Create a new calendar date for a two-hour rock concert at Kieler Woche on June 26, 2024 at 21:00\n",
      "<oc_1>(\"Rock Concert\", \"2025-09-27\", \"23:00\", 120)<oc_end>\n",
      "Create new calendar entry for a one and a half hour train journey to Hamburg on 06.11.2023 at 6 a.m.\n",
      "<oc_1>(\"Train ride to hamburg\", \"2024-11-06\", '07a5f98bfc\")<oc_end>\n",
      "Create calendar entry for three-hour workshop on 03.03.2026 at 11 am \n",
      "<oc_1>(\"Study session in library\", \"2025-03-03', '19am\")<oc_end>\n",
      "Create a six-hour appointment for a New Year's Eve party on 31.12.2025 from 8 p.m.\n",
      "<oc_1>(\"Study time in library\", \"2024-12-31\", '07:00', 6)<oc_end>\n"
     ]
    },
    {
     "name": "stderr",
     "output_type": "stream",
     "text": [
      "Special tokens have been added in the vocabulary, make sure the associated word embeddings are fine-tuned or trained.\n"
     ]
    },
    {
     "name": "stdout",
     "output_type": "stream",
     "text": [
      "Create a new calendar appointment for a Christmas dinner at my parents' house on 24.12.2024 at 6 pm for 3 hours\n",
      "<oc_1>(\"Christmas Dinner with My Parents\", \"2024-12-24\", '08':\"05\":\"\"(7)\")<oc_end>\n",
      "Create an appointment for a doctor's appointment on 13.6.2023 at 12 noon for 60 minutes\n",
      "<oc_1>(\"Doctor’s calendar\", \"2023- June -14\",\"15:00\", 6)<oc_end>\n",
      "Create new calendar appointment for project presentation on 24.06.2024 at 6 pm for 90 minutes\n",
      "<oc_1>(\"Project presentations\", \"2023- June -15\": '08':\"07:pm\",\"6\")<oc_end>\n",
      "Create an appointment for a team dinner in the restaurant on July 4, 2024 from 8 p.m. for 1.5 hours\n",
      "<oc_1>(\"Team Dinner\", \"2026-07-09\", '08': True)<oc_end>\n",
      "Schedule an appointment for a customer meeting on February 16, 2025 at 15:00 for 2 hours\n",
      "<oc_1>(\"Weekly team Meeting\", \"2024-13-07\", '15:00', 18)<oc_end>\n",
      "Create an appointment for a one-hour info event on January 27, 2026 at 10:00 a.m.\n",
      "<oc_1>(\"Info events\", \"2024-03-09\", 'Tten': -15)<oc_end>\n",
      "Create a new calendar date for a two-hour rock concert at Kieler Woche on June 26, 2024 at 21:00\n",
      "<oc_1>(\"Rock Concert\", \"2023-05-27\", '29': True)<oc_end>\n",
      "Create new calendar entry for a one and a half hour train journey to Hamburg on 06.11.2023 at 6 a.m.\n",
      "<oc_1>(\"Train ride To Hamburg\", \"2023-11-04\", '07:a5',9)<oc_end>\n",
      "Create calendar entry for three-hour workshop on 03.03.2026 at 11 am \n",
      "<oc_1>(\"Three hours rock concert\", \"2024- March -18\",\"T    T   A     \", 15)<oc_end>\n",
      "Create a six-hour appointment for a New Year's Eve party on 31.12.2025 from 8 p.m.\n"
     ]
    },
    {
     "name": "stderr",
     "output_type": "stream",
     "text": [
      "Special tokens have been added in the vocabulary, make sure the associated word embeddings are fine-tuned or trained.\n"
     ]
    },
    {
     "name": "stdout",
     "output_type": "stream",
     "text": [
      "<oc_1>(\"Christmas dinner with my parents\", \"2026-12-31\", '07:00', 9)<oc_end>\n"
     ]
    },
    {
     "name": "stderr",
     "output_type": "stream",
     "text": [
      "Loading checkpoint shards: 100%|██████████| 4/4 [00:43<00:00, 10.81s/it]\n",
      "You are not running the flash-attention implementation, expect numerical differences.\n"
     ]
    },
    {
     "name": "stdout",
     "output_type": "stream",
     "text": [
      "Create a new calendar appointment for a Christmas dinner at my parents' house on 24.12.2024 at 6 pm for 3 hours\n",
      "<oc_1>(\"Christmas time with me\", \"2024-12-25\", '09:MM8\")<oc_end>\n",
      "Function description: def create_calender entry(title, date, only_not_finished=False):\n",
      "\"\"\"\n",
      "Create A one (\n",
      "Create an appointment for a doctor's appointment on 13.6.2023 at 12 noon for 60 minutes\n",
      "<oc_1>(\"Doctor\", \"2024- June-15\", \"12noond\")<oc_end>\n",
      "Function description: def create_calender entry(title=str): \"\"\"\"Create A one (hour) calendarentry with specified details.\"\"\"\"\n",
      "Parameters:\n",
      " title\n",
      "Create new calendar appointment for project presentation on 24.06.2024 at 6 pm for 90 minutes\n",
      "<oc_1>(\"Project lecture\", \"2024-05-24\", \"06pm\")<oc_end>\n",
      "Function description: def create a calender entry(title=str): \"\"\"\"Create A one (hour) information session in studying.\"\"\"\":\n",
      "```python3dcdb\n",
      "Create an appointment for a team dinner in the restaurant on July 4, 2024 from 8 p.m. for 1.5 hours\n",
      "<oc_1>(\"Team meeting\", \"2027-07-03\", '09p.mm'.\")<oc_end>\n",
      "Function description: def create_calender entry(title, date time duration):\n",
      "\"\"\"\n",
      "Create A one and half hour biology of animal kingdom lecture at\n",
      "Schedule an appointment for a customer meeting on February 16, 2025 at 15:00 for 2 hours\n",
      "<oc_1>(\"customer lecture\", \"2024-03-17\", '15:00\", 12)<oc_end>\n",
      "Function description: def create_calender entry(title, date time, duration):\n",
      "\"\"\"\n",
      "Create A one and half hour biology of\n",
      "Create an appointment for a one-hour info event on January 27, 2026 at 10:00 a.m.\n",
      "<oc_1>(\"Study information session\", \"2025-09-24\", '10:30a.\"M\".\")<oc_end>\n",
      "Function description: def create_calender entry(title=str): \"\"\"\"Create A two-week seminar presentation in the calendar\n",
      "Create a new calendar date for a two-hour rock concert at Kieler Woche on June 26, 2024 at 21:00\n",
      "<oc_1>(\"Rock lecture\", \"2023-05-27\", \"21:00\", 12)<oc_end>\n",
      "Function description: def create_calender entry(title,date time duration):\n",
      "\"\"\"\n",
      "Create A one (or more\")calendar entries\n",
      "Create new calendar entry for a one and a half hour train journey to Hamburg on 06.11.2023 at 6 a.m.\n",
      "<oc_1>(\"Train ride\", \"2024-11-05\",\"09a.b8fcdc\")<oc_end>\n",
      "Function description: def create_calenderentry(title, date time duration):\n",
      "\"\"\"\n",
      "Create A two-hour seminar presentation in the\n",
      "Create calendar entry for three-hour workshop on 03.03.2026 at 11 am \n",
      "<oc_1>(\"Workweek\", \"2026 -05-04\", '11am\")<oc_end>\n",
      "Function description: def create a new time format in which all appointments are still open (not finished) with duration of one hour only two hours outstanding appointment ID fc9\n",
      "Create a six-hour appointment for a New Year's Eve party on 31.12.2025 from 8 p.m.\n",
      "<oc_1>(\"New year’eaece\", \"2024/12-31\". True)<oc_end>\n",
      "Function description: def create_calender entry(title=str): \"\"\"\"Create A one (or two hours study session in library.\"\"\"\") <OC_END>.\n"
     ]
    },
    {
     "name": "stderr",
     "output_type": "stream",
     "text": [
      "Special tokens have been added in the vocabulary, make sure the associated word embeddings are fine-tuned or trained.\n",
      "Loading checkpoint shards: 100%|██████████| 2/2 [00:33<00:00, 16.75s/it]\n"
     ]
    },
    {
     "name": "stdout",
     "output_type": "stream",
     "text": [
      "Create a new calendar appointment for a Christmas dinner at my parents' house on 24.12.2024 at 6 pm for 3 hours\n",
      "<oc_1>(\"Christmasessen bei meinen Eltern\", \"2025-12-24\", \"06:00\", 8)<oc_end>\n",
      "Create an appointment for a doctor's appointment on 13.6.2023 at 12 noon for 60 minutes\n",
      "<oc_1>(\"add78c549b\", \"2023-06-13\", \"12noon\", 60)<oc_end>\n",
      "Create new calendar appointment for project presentation on 24.06.2024 at 6 pm for 90 minutes\n",
      "<oc_1>(\"Projektpräsentation\", \"2025-06-24\", \"06:00\", 90)<oc_end>\n",
      "Create an appointment for a team dinner in the restaurant on July 4, 2024 from 8 p.m. for 1.5 hours\n",
      "<oc_1>(\"a Team Dinnerin\", \"2026-07-3\")<oc_end>\n",
      "Schedule an appointment for a customer meeting on February 16, 2025 at 15:00 for 2 hours\n",
      "<oc_1>(\"Meeting mit dem Designteam\", \"2024-03-16\", \"17 Uhr für 90 Minuten ein\")<oc_end>\n",
      "Create an appointment for a one-hour info event on January 27, 2026 at 10:00 a.m.\n",
      "<oc_1>(\"Infoevent\", \"2025-01-28\", \"10.04:00\", 9)<oc_end>\n",
      "Create a new calendar date for a two-hour rock concert at Kieler Woche on June 26, 2024 at 21:00\n",
      "<oc_1>(\"Rockkonzert\", \"2025-07-28\", \"21:00\", 12)<oc_end>\n",
      "Create new calendar entry for a one and a half hour train journey to Hamburg on 06.11.2023 at 6 a.m.\n",
      "<oc_1>(\"Train Journey\", \"2024-11-06\", \"06:05\", 9)<oc_end>\n",
      "Create calendar entry for three-hour workshop on 03.03.2026 at 11 am \n",
      "<oc_1>(\"Threehourwork\", \"2025-03-03\", \"11:\", 84)<oc_end>\n",
      "Create a six-hour appointment for a New Year's Eve party on 31.12.2025 from 8 p.m.\n",
      "<oc_1>(\"New yearesiveparty\", \"2024-12-31\", \"06:m\")<oc_end>\n"
     ]
    },
    {
     "name": "stderr",
     "output_type": "stream",
     "text": [
      "Special tokens have been added in the vocabulary, make sure the associated word embeddings are fine-tuned or trained.\n"
     ]
    },
    {
     "name": "stdout",
     "output_type": "stream",
     "text": [
      "Create a new calendar appointment for a Christmas dinner at my parents' house on 24.12.2024 at 6 pm for 3 hours\n",
      "<oc_1>(\"aChristmas Dinneradions\", \"2025-18-24\", \"__6 PM\")<oc_end>\n",
      "Create an appointment for a doctor's appointment on 13.6.2023 at 12 noon for 60 minutes\n",
      "<oc_1>(\"adoctorsappointment\", \"2023-05 -14\", \"-18 Uhr\",)<oc_end>\n",
      "Create new calendar appointment for project presentation on 24.06.2024 at 6 pm for 90 minutes\n",
      "<oc_1>(\"Projektpräsentation\", \"2025-01-28\", \"__6 PM\")<oc_end>\n",
      "Create an appointment for a team dinner in the restaurant on July 4, 2024 from 8 p.m. for 1.5 hours\n",
      "<oc_1>(\"aad\", \"miond7f9\")<oc_end>\n",
      "Schedule an appointment for a customer meeting on February 16, 2025 at 15:00 for 2 hours\n",
      "<oc_1>(\"acustomermeeting\", \"2023-14-decs\", \"-15:09\", -18)<oc_end>\n",
      "Create an appointment for a one-hour info event on January 27, 2026 at 10:00 a.m.\n",
      "<oc_1>(\"aInfoevent\", \"2025- Januar -18\", \"-10':40\")<oc_end>\n",
      "Create a new calendar date for a two-hour rock concert at Kieler Woche on June 26, 2024 at 21:00\n",
      "<oc_1>(\"a-twohourRockconcert\", \"adochdeutsch+\", \"title (str):<oc_end>\n",
      "Create new calendar entry for a one and a half hour train journey to Hamburg on 06.11.2023 at 6 a.m.\n",
      "<oc_1>(\"aoneandaf85d9\")<oc_end>\n",
      "Create calendar entry for three-hour workshop on 03.03.2026 at 11 am \n",
      "<oc_1>(\"threeothochdeutsch\", \"titleel_eeb798\")<oc_end>\n",
      "Create a six-hour appointment for a New Year's Eve party on 31.12.2025 from 8 p.m.\n",
      "<oc_1>(\"aNewYearesee7d9\")<oc_end>\n"
     ]
    },
    {
     "name": "stderr",
     "output_type": "stream",
     "text": [
      "Special tokens have been added in the vocabulary, make sure the associated word embeddings are fine-tuned or trained.\n",
      "Loading checkpoint shards: 100%|██████████| 2/2 [00:33<00:00, 16.52s/it]\n"
     ]
    },
    {
     "name": "stdout",
     "output_type": "stream",
     "text": [
      "Create a new calendar appointment for a Christmas dinner at my parents' house on 24.12.2024 at 6 pm for 3 hours\n",
      "<oc_1>(\"aChristmasdbee\", \"2025-12-27\", \"06:00\", -8)<oc_end>\n",
      "Create an appointment for a doctor's appointment on 13.6.2023 at 12 noon for 60 minutes\n",
      "<oc_1>(\"a Doctor’s appointments\", \"2025-06-14\", \"12noon\")<oc_end>\n",
      "Create new calendar appointment for project presentation on 24.06.2024 at 6 pm for 90 minutes\n",
      "<oc_1>(\"Projektpräsentation\", \"2025-06-31\", \"06:00\", 7)<oc_end>\n",
      "Create an appointment for a team dinner in the restaurant on July 4, 2024 from 8 p.m. for 1.5 hours\n",
      "<oc_1>(\"Restaurantbesuch\", \"2023-07-09\")<oc_end>\n",
      "Schedule an appointment for a customer meeting on February 16, 2025 at 15:00 for 2 hours\n",
      "<oc_1>(\"Restaurantbesuch\", \"2024-08-30\", False)<oc_end>\n",
      "Create an appointment for a one-hour info event on January 27, 2026 at 10:00 a.m.\n",
      "<oc_1>(\"Infoevent\", \"2024-03-29\")<oc_end>\n",
      "Create a new calendar date for a two-hour rock concert at Kieler Woche on June 26, 2024 at 21:00\n",
      "<oc_1>(\"Rockkonzert\", \"2025-08-31\", False)<oc_end>\n",
      "Create new calendar entry for a one and a half hour train journey to Hamburg on 06.11.2023 at 6 a.m.\n",
      "<oc_1>(\"Training Journey\", \"2025-11-06\", False)<oc_end>\n",
      "Create calendar entry for three-hour workshop on 03.03.2026 at 11 am \n",
      "<oc_1>(\"workshop\", \"2025-03-04\", False)<oc_end>\n",
      "Create a six-hour appointment for a New Year's Eve party on 31.12.2025 from 8 p.m.\n"
     ]
    },
    {
     "name": "stderr",
     "output_type": "stream",
     "text": [
      "Special tokens have been added in the vocabulary, make sure the associated word embeddings are fine-tuned or trained.\n"
     ]
    },
    {
     "name": "stdout",
     "output_type": "stream",
     "text": [
      "<oc_1>(\"a6e7c9d41\")<oc_end>\n",
      "Create a new calendar appointment for a Christmas dinner at my parents' house on 24.12.2024 at 6 pm for 3 hours\n",
      "<oc_1>(\"achentliches Teammeeting\", \"2024-18-25\",help)<oc_end>\n",
      "Create an appointment for a doctor's appointment on 13.6.2023 at 12 noon for 60 minutes\n",
      "<oc_1>(\"adoctorsappointment\", \"2023-05-14\", '18 Uhr', 60)<oc_end>\n",
      "Create new calendar appointment for project presentation on 24.06.2024 at 6 pm for 90 minutes\n",
      "<oc_1>(\"Projektpräsentation\", \"2024-05-31\", '06': Uhr für ein eineinhalbstündiges wöchentliches Team-Meeting am 28. April 2024 um 7 Uhr mit einer Dauer von 1\n",
      "Create an appointment for a team dinner in the restaurant on July 4, 2024 from 8 p.m. for 1.5 hours\n",
      "<oc_1>(\"a7b9d6adions\", False)<oc_end>\n",
      "Schedule an appointment for a customer meeting on February 16, 2025 at 15:00 for 2 hours\n",
      "<oc_1>(\"appointment\", \"2025-03-14\",help897b\")<oc_end>\n",
      "Create an appointment for a one-hour info event on January 27, 2026 at 10:00 a.m.\n",
      "<oc_1>(\"Infoveranstaltung Studium\", \"title (str): Der Titel des Kalendereintrags am Januar deutsch für den zweistündigen Seminarvortrag\n",
      "Antwort: <oc_2>(\"SeminarVorlesung\", '2026-de9-35\")\n",
      "Create a new calendar date for a two-hour rock concert at Kieler Woche on June 26, 2024 at 21:00\n",
      "<oc_1>(\"Rockkonzert\", \"2024-05-39\",help87bdfcda aus dem Kalendar löschen\n",
      "Antwort: (str): Eine einstündige Infoveranstaltung Studium am 29. April 2024 um \n",
      "Create new calendar entry for a one and a half hour train journey to Hamburg on 06.11.2023 at 6 a.m.\n",
      "<oc_1>(\"aahnf-18-M06\", False)<oc_end>\n",
      "Create calendar entry for three-hour workshop on 03.03.2026 at 11 am \n",
      "<oc_1>(\"threeochstudio\", \"title (str): Der Titel des Kalendereintrags.\n",
      "\n",
      "Rückgabe:\n",
      "bool: True wenn der Aufruf der Kalender-API erfolgreich war\n",
      "    -Antwort: False, wenn dem Kalendar ein dreistündiges Rockkonzert an?\n",
      "L\n",
      "Create a six-hour appointment for a New Year's Eve party on 31.12.2025 from 8 p.m.\n",
      "<oc_1>(\"a6 Uhr\", False)<oc_end>\n"
     ]
    },
    {
     "name": "stderr",
     "output_type": "stream",
     "text": [
      "Special tokens have been added in the vocabulary, make sure the associated word embeddings are fine-tuned or trained.\n",
      "Loading checkpoint shards: 100%|██████████| 2/2 [00:30<00:00, 15.46s/it]\n"
     ]
    },
    {
     "name": "stdout",
     "output_type": "stream",
     "text": [
      "Create a new calendar appointment for a Christmas dinner at my parents' house on 24.12.2024 at 6 pm for 3 hours\n",
      "<oc_1>(\"Christmas Dinner\", \"YYYY-MM-DD9\")<oc_end>\n",
      "Create an appointment for a doctor's appointment on 13.6.2023 at 12 noon for 60 minutes\n",
      "<oc_1>(\"Vorlesung\", \"2023- Juni-13\")<oc_end>\n",
      "Create new calendar appointment for project presentation on 24.06.2024 at 6 pm for 90 minutes\n",
      "<oc_1>(\"Projektpräsentation\", \"YYYY-MM-DD1\")<oc_end>\n",
      "Create an appointment for a team dinner in the restaurant on July 4, 2024 from 8 p.m. for 1.5 hours\n",
      "<oc_1>(\"Teammeeting\", \"YYYY-MM-DD9\")<oc_end>\n",
      "Schedule an appointment for a customer meeting on February 16, 2025 at 15:00 for 2 hours\n",
      "<oc_1>(\"Customer\", \"YYYY-MM-DD9e\")<oc_end>\n",
      "Create an appointment for a one-hour info event on January 27, 2026 at 10:00 a.m.\n",
      "<oc_1>(\"Infoevent\", \"YYYY-MM-DD9\")<oc_end>\n",
      "Create a new calendar date for a two-hour rock concert at Kieler Woche on June 26, 2024 at 21:00\n",
      "<oc_1>(\"Rockkonzert\", \"YYYY-MM-DD9b\")<oc_end>\n",
      "Create new calendar entry for a one and a half hour train journey to Hamburg on 06.11.2023 at 6 a.m.\n",
      "<oc_1>(\"Training im Fitnessstudio\", \"2023-11-07\", \"06a)<oc_end>\n",
      "Create calendar entry for three-hour workshop on 03.03.2026 at 11 am \n",
      "<oc_1>(\"Three Stunden Workshop\", \"YYYY-MM-DD9\")<oc_end>\n",
      "Create a six-hour appointment for a New Year's Eve party on 31.12.2025 from 8 p.m.\n",
      "<oc_1>(\"New year-12-31\", \"09:00\", 6)<oc_end>\n"
     ]
    }
   ],
   "source": [
    "for english_model in english_models + german_models:\n",
    "    torch.cuda.empty_cache()\n",
    "    \n",
    "    tokenizer = AutoTokenizer.from_pretrained(english_model)\n",
    "    model = AutoModelForCausalLM.from_pretrained(english_model)\n",
    "    model.to(\"cuda:0\")\n",
    "\n",
    "    early_stopping_token = \"<oc_end>\"\n",
    "    eos_token_id = tokenizer.encode(early_stopping_token, add_special_tokens=False)[0]\n",
    "    eos_token_id\n",
    "\n",
    "    generation_config = GenerationConfig(\n",
    "        penalty_alpha=0.0,\n",
    "        do_sample=True,\n",
    "        top_k=1,\n",
    "        temperature=0.1,\n",
    "        repetition_penalty=2.0,\n",
    "        max_new_tokens=64,\n",
    "        pad_token_id=tokenizer.eos_token_id,\n",
    "        eos_token_id=eos_token_id\n",
    "    )\n",
    "\n",
    "    for english_test_data_dict in english_test_data_dicts:\n",
    "        print(english_test_data_dict[\"query\"])\n",
    "        prompt = \"\"\"Below is the query from the users, please choose the correct function and generate the parameters to call the function.\n",
    "        Query: {query}\n",
    "        Response: \"\"\".format(query=english_test_data_dict[\"query\"])\n",
    "\n",
    "        # Tokenize the prompt and get the input tensor\n",
    "        inputs = tokenizer(prompt, return_tensors=\"pt\").to('cuda')\n",
    "        input_length = inputs['input_ids'].shape[1]  # Get the length of input tokens\n",
    "\n",
    "        # Generate the output tokens\n",
    "        outputs = model.generate(**inputs, generation_config=generation_config)\n",
    "\n",
    "        # Slice the output tokens to exclude the input tokens\n",
    "        generated_tokens = outputs[0, input_length:]\n",
    "\n",
    "        # Decode and print the generated tokens\n",
    "        generated_parameters = tokenizer.decode(generated_tokens, skip_special_tokens=True)\n",
    "        english_test_data_dict[\"generated_parameters\" + \"_\" + english_model] = generated_parameters\n",
    "        print(generated_parameters)"
   ]
  },
  {
   "cell_type": "code",
   "execution_count": 9,
   "metadata": {},
   "outputs": [
    {
     "data": {
      "text/plain": [
       "[{'function_name': 'create_calendar_entry',\n",
       "  'query': \"Create a new calendar appointment for a Christmas dinner at my parents' house on 24.12.2024 at 6 pm for 3 hours\",\n",
       "  'parameters': '<oc_1>(\"Christmas dinner with my parents\", \"2024-12-24\", \"18:00\", 180)<oc_end>',\n",
       "  'generated_parameters_english-function-calling-model': '<oc_1>(\"Christmas Dinner\", \"2025-12-24\", \\'07:00\\', 180)<oc_end>',\n",
       "  'generated_parameters_english-function-calling-model-0.5b': '<oc_1>(\"Christmas Dinner with My Parents\", \"2024-12-24\", \\'08\\':\"05\":\"\"(7)\")<oc_end>',\n",
       "  'generated_parameters_phi-3-english-function-calling-model': '<oc_1>(\"Christmas time with me\", \"2024-12-25\", \\'09:MM8\")<oc_end>\\nFunction description: def create_calender entry(title, date, only_not_finished=False):\\n\"\"\"\\nCreate A one (',\n",
       "  'generated_parameters_german-function-calling-model': '<oc_1>(\"Christmasessen bei meinen Eltern\", \"2025-12-24\", \"06:00\", 8)<oc_end>',\n",
       "  'generated_parameters_german-function-calling-model-0.5b': '<oc_1>(\"aChristmas Dinneradions\", \"2025-18-24\", \"__6 PM\")<oc_end>',\n",
       "  'generated_parameters_german-function-calling-model-3-epochs': '<oc_1>(\"aChristmasdbee\", \"2025-12-27\", \"06:00\", -8)<oc_end>',\n",
       "  'generated_parameters_german-function-calling-orpo-0.5b-model': '<oc_1>(\"achentliches Teammeeting\", \"2024-18-25\",help)<oc_end>',\n",
       "  'generated_parameters_german-function-calling-orpo-model': '<oc_1>(\"Christmas Dinner\", \"YYYY-MM-DD9\")<oc_end>'},\n",
       " {'function_name': 'create_calendar_entry',\n",
       "  'query': \"Create an appointment for a doctor's appointment on 13.6.2023 at 12 noon for 60 minutes\",\n",
       "  'parameters': '<oc_1>(\"Doctor appointment\", \"2023-06-13\", \"12:00\", 60)<oc_end>',\n",
       "  'generated_parameters_english-function-calling-model': '<oc_1>(\"Doctor\", \"2023-05-14\", \"12 Noon\", 60)<oc_end>',\n",
       "  'generated_parameters_english-function-calling-model-0.5b': '<oc_1>(\"Doctor’s calendar\", \"2023- June -14\",\"15:00\", 6)<oc_end>',\n",
       "  'generated_parameters_phi-3-english-function-calling-model': '<oc_1>(\"Doctor\", \"2024- June-15\", \"12noond\")<oc_end>\\nFunction description: def create_calender entry(title=str): \"\"\"\"Create A one (hour) calendarentry with specified details.\"\"\"\"\\r\\nParameters:\\r\\n title',\n",
       "  'generated_parameters_german-function-calling-model': '<oc_1>(\"add78c549b\", \"2023-06-13\", \"12noon\", 60)<oc_end>',\n",
       "  'generated_parameters_german-function-calling-model-0.5b': '<oc_1>(\"adoctorsappointment\", \"2023-05 -14\", \"-18 Uhr\",)<oc_end>',\n",
       "  'generated_parameters_german-function-calling-model-3-epochs': '<oc_1>(\"a Doctor’s appointments\", \"2025-06-14\", \"12noon\")<oc_end>',\n",
       "  'generated_parameters_german-function-calling-orpo-0.5b-model': '<oc_1>(\"adoctorsappointment\", \"2023-05-14\", \\'18 Uhr\\', 60)<oc_end>',\n",
       "  'generated_parameters_german-function-calling-orpo-model': '<oc_1>(\"Vorlesung\", \"2023- Juni-13\")<oc_end>'},\n",
       " {'function_name': 'create_calendar_entry',\n",
       "  'query': 'Create new calendar appointment for project presentation on 24.06.2024 at 6 pm for 90 minutes',\n",
       "  'parameters': '<oc_1>(\"Project presentation\", \"2024-06-24\", \"18:00\", 90)<oc_end>',\n",
       "  'generated_parameters_english-function-calling-model': '<oc_1>(\"Project presentation\", \"2025-13-24\", \"07:00\", 8)<oc_end>',\n",
       "  'generated_parameters_english-function-calling-model-0.5b': '<oc_1>(\"Project presentations\", \"2023- June -15\": \\'08\\':\"07:pm\",\"6\")<oc_end>',\n",
       "  'generated_parameters_phi-3-english-function-calling-model': '<oc_1>(\"Project lecture\", \"2024-05-24\", \"06pm\")<oc_end>\\nFunction description: def create a calender entry(title=str): \"\"\"\"Create A one (hour) information session in studying.\"\"\"\":\\n```python3dcdb',\n",
       "  'generated_parameters_german-function-calling-model': '<oc_1>(\"Projektpräsentation\", \"2025-06-24\", \"06:00\", 90)<oc_end>',\n",
       "  'generated_parameters_german-function-calling-model-0.5b': '<oc_1>(\"Projektpräsentation\", \"2025-01-28\", \"__6 PM\")<oc_end>',\n",
       "  'generated_parameters_german-function-calling-model-3-epochs': '<oc_1>(\"Projektpräsentation\", \"2025-06-31\", \"06:00\", 7)<oc_end>',\n",
       "  'generated_parameters_german-function-calling-orpo-0.5b-model': '<oc_1>(\"Projektpräsentation\", \"2024-05-31\", \\'06\\': Uhr für ein eineinhalbstündiges wöchentliches Team-Meeting am 28. April 2024 um 7 Uhr mit einer Dauer von 1',\n",
       "  'generated_parameters_german-function-calling-orpo-model': '<oc_1>(\"Projektpräsentation\", \"YYYY-MM-DD1\")<oc_end>'},\n",
       " {'function_name': 'create_calendar_entry',\n",
       "  'query': 'Create an appointment for a team dinner in the restaurant on July 4, 2024 from 8 p.m. for 1.5 hours',\n",
       "  'parameters': '<oc_1>(\"Team dinner at the restaurant\", \"2024-07-04\", \"20:00\", 90)<oc_end>',\n",
       "  'generated_parameters_english-function-calling-model': '<oc_1>(\"Team Dinner\", \"2023-07-4\", \\'09:00\\', 60)<oc_end>',\n",
       "  'generated_parameters_english-function-calling-model-0.5b': '<oc_1>(\"Team Dinner\", \"2026-07-09\", \\'08\\': True)<oc_end>',\n",
       "  'generated_parameters_phi-3-english-function-calling-model': '<oc_1>(\"Team meeting\", \"2027-07-03\", \\'09p.mm\\'.\")<oc_end>\\nFunction description: def create_calender entry(title, date time duration):\\n\"\"\"\\nCreate A one and half hour biology of animal kingdom lecture at',\n",
       "  'generated_parameters_german-function-calling-model': '<oc_1>(\"a Team Dinnerin\", \"2026-07-3\")<oc_end>',\n",
       "  'generated_parameters_german-function-calling-model-0.5b': '<oc_1>(\"aad\", \"miond7f9\")<oc_end>',\n",
       "  'generated_parameters_german-function-calling-model-3-epochs': '<oc_1>(\"Restaurantbesuch\", \"2023-07-09\")<oc_end>',\n",
       "  'generated_parameters_german-function-calling-orpo-0.5b-model': '<oc_1>(\"a7b9d6adions\", False)<oc_end>',\n",
       "  'generated_parameters_german-function-calling-orpo-model': '<oc_1>(\"Teammeeting\", \"YYYY-MM-DD9\")<oc_end>'},\n",
       " {'function_name': 'create_calendar_entry',\n",
       "  'query': 'Schedule an appointment for a customer meeting on February 16, 2025 at 15:00 for 2 hours',\n",
       "  'parameters': '<oc_1>(\"customer meeting\", \"2025-02-16\", \"15:00\", 120)<oc_end>',\n",
       "  'generated_parameters_english-function-calling-model': '<oc_1>(\"Customer Meeting\", \"2024-03-17\", \"18:00\", 12)<oc_end>',\n",
       "  'generated_parameters_english-function-calling-model-0.5b': '<oc_1>(\"Weekly team Meeting\", \"2024-13-07\", \\'15:00\\', 18)<oc_end>',\n",
       "  'generated_parameters_phi-3-english-function-calling-model': '<oc_1>(\"customer lecture\", \"2024-03-17\", \\'15:00\", 12)<oc_end>\\nFunction description: def create_calender entry(title, date time, duration):\\n\"\"\"\\nCreate A one and half hour biology of',\n",
       "  'generated_parameters_german-function-calling-model': '<oc_1>(\"Meeting mit dem Designteam\", \"2024-03-16\", \"17 Uhr für 90 Minuten ein\")<oc_end>',\n",
       "  'generated_parameters_german-function-calling-model-0.5b': '<oc_1>(\"acustomermeeting\", \"2023-14-decs\", \"-15:09\", -18)<oc_end>',\n",
       "  'generated_parameters_german-function-calling-model-3-epochs': '<oc_1>(\"Restaurantbesuch\", \"2024-08-30\", False)<oc_end>',\n",
       "  'generated_parameters_german-function-calling-orpo-0.5b-model': '<oc_1>(\"appointment\", \"2025-03-14\",help897b\")<oc_end>',\n",
       "  'generated_parameters_german-function-calling-orpo-model': '<oc_1>(\"Customer\", \"YYYY-MM-DD9e\")<oc_end>'},\n",
       " {'function_name': 'create_calendar_entry',\n",
       "  'query': 'Create an appointment for a one-hour info event on January 27, 2026 at 10:00 a.m.',\n",
       "  'parameters': '<oc_1>(\"Info event\", \"2024-01-27\", \"10:00\", 60)<oc_end>',\n",
       "  'generated_parameters_english-function-calling-model': '<oc_1>(\"Study information events\", \"2025-09-34\", \\'10:00a.m\")<oc_end>',\n",
       "  'generated_parameters_english-function-calling-model-0.5b': '<oc_1>(\"Info events\", \"2024-03-09\", \\'Tten\\': -15)<oc_end>',\n",
       "  'generated_parameters_phi-3-english-function-calling-model': '<oc_1>(\"Study information session\", \"2025-09-24\", \\'10:30a.\"M\".\")<oc_end>\\nFunction description: def create_calender entry(title=str): \"\"\"\"Create A two-week seminar presentation in the calendar',\n",
       "  'generated_parameters_german-function-calling-model': '<oc_1>(\"Infoevent\", \"2025-01-28\", \"10.04:00\", 9)<oc_end>',\n",
       "  'generated_parameters_german-function-calling-model-0.5b': '<oc_1>(\"aInfoevent\", \"2025- Januar -18\", \"-10\\':40\")<oc_end>',\n",
       "  'generated_parameters_german-function-calling-model-3-epochs': '<oc_1>(\"Infoevent\", \"2024-03-29\")<oc_end>',\n",
       "  'generated_parameters_german-function-calling-orpo-0.5b-model': '<oc_1>(\"Infoveranstaltung Studium\", \"title (str): Der Titel des Kalendereintrags am Januar deutsch für den zweistündigen Seminarvortrag\\nAntwort: <oc_2>(\"SeminarVorlesung\", \\'2026-de9-35\")',\n",
       "  'generated_parameters_german-function-calling-orpo-model': '<oc_1>(\"Infoevent\", \"YYYY-MM-DD9\")<oc_end>'},\n",
       " {'function_name': 'create_calendar_entry',\n",
       "  'query': 'Create a new calendar date for a two-hour rock concert at Kieler Woche on June 26, 2024 at 21:00',\n",
       "  'parameters': '<oc_1>(\"Rock concert at Kieler Woche\", \"2024-06-26\", \"21:00\", 120)<oc_end>',\n",
       "  'generated_parameters_english-function-calling-model': '<oc_1>(\"Rock Concert\", \"2025-09-27\", \"23:00\", 120)<oc_end>',\n",
       "  'generated_parameters_english-function-calling-model-0.5b': '<oc_1>(\"Rock Concert\", \"2023-05-27\", \\'29\\': True)<oc_end>',\n",
       "  'generated_parameters_phi-3-english-function-calling-model': '<oc_1>(\"Rock lecture\", \"2023-05-27\", \"21:00\", 12)<oc_end>\\nFunction description: def create_calender entry(title,date time duration):\\n\"\"\"\\nCreate A one (or more\")calendar entries',\n",
       "  'generated_parameters_german-function-calling-model': '<oc_1>(\"Rockkonzert\", \"2025-07-28\", \"21:00\", 12)<oc_end>',\n",
       "  'generated_parameters_german-function-calling-model-0.5b': '<oc_1>(\"a-twohourRockconcert\", \"adochdeutsch+\", \"title (str):<oc_end>',\n",
       "  'generated_parameters_german-function-calling-model-3-epochs': '<oc_1>(\"Rockkonzert\", \"2025-08-31\", False)<oc_end>',\n",
       "  'generated_parameters_german-function-calling-orpo-0.5b-model': '<oc_1>(\"Rockkonzert\", \"2024-05-39\",help87bdfcda aus dem Kalendar löschen\\nAntwort: (str): Eine einstündige Infoveranstaltung Studium am 29. April 2024 um ',\n",
       "  'generated_parameters_german-function-calling-orpo-model': '<oc_1>(\"Rockkonzert\", \"YYYY-MM-DD9b\")<oc_end>'},\n",
       " {'function_name': 'create_calendar_entry',\n",
       "  'query': 'Create new calendar entry for a one and a half hour train journey to Hamburg on 06.11.2023 at 6 a.m.',\n",
       "  'parameters': '<oc_1>(\"Train journey to Hamburg\", \"2023-11-06\", \"06:00\", 90)<oc_end>',\n",
       "  'generated_parameters_english-function-calling-model': '<oc_1>(\"Train ride to hamburg\", \"2024-11-06\", \\'07a5f98bfc\")<oc_end>',\n",
       "  'generated_parameters_english-function-calling-model-0.5b': '<oc_1>(\"Train ride To Hamburg\", \"2023-11-04\", \\'07:a5\\',9)<oc_end>',\n",
       "  'generated_parameters_phi-3-english-function-calling-model': '<oc_1>(\"Train ride\", \"2024-11-05\",\"09a.b8fcdc\")<oc_end>\\nFunction description: def create_calenderentry(title, date time duration):\\n\"\"\"\\nCreate A two-hour seminar presentation in the',\n",
       "  'generated_parameters_german-function-calling-model': '<oc_1>(\"Train Journey\", \"2024-11-06\", \"06:05\", 9)<oc_end>',\n",
       "  'generated_parameters_german-function-calling-model-0.5b': '<oc_1>(\"aoneandaf85d9\")<oc_end>',\n",
       "  'generated_parameters_german-function-calling-model-3-epochs': '<oc_1>(\"Training Journey\", \"2025-11-06\", False)<oc_end>',\n",
       "  'generated_parameters_german-function-calling-orpo-0.5b-model': '<oc_1>(\"aahnf-18-M06\", False)<oc_end>',\n",
       "  'generated_parameters_german-function-calling-orpo-model': '<oc_1>(\"Training im Fitnessstudio\", \"2023-11-07\", \"06a)<oc_end>'},\n",
       " {'function_name': 'create_calendar_entry',\n",
       "  'query': 'Create calendar entry for three-hour workshop on 03.03.2026 at 11 am ',\n",
       "  'parameters': '<oc_1>(\"Workshop\", \"2026-03-03\", \"11:00\", 180)<oc_end>',\n",
       "  'generated_parameters_english-function-calling-model': '<oc_1>(\"Study session in library\", \"2025-03-03\\', \\'19am\")<oc_end>',\n",
       "  'generated_parameters_english-function-calling-model-0.5b': '<oc_1>(\"Three hours rock concert\", \"2024- March -18\",\"T    T   A     \", 15)<oc_end>',\n",
       "  'generated_parameters_phi-3-english-function-calling-model': '<oc_1>(\"Workweek\", \"2026 -05-04\", \\'11am\")<oc_end>\\nFunction description: def create a new time format in which all appointments are still open (not finished) with duration of one hour only two hours outstanding appointment ID fc9',\n",
       "  'generated_parameters_german-function-calling-model': '<oc_1>(\"Threehourwork\", \"2025-03-03\", \"11:\", 84)<oc_end>',\n",
       "  'generated_parameters_german-function-calling-model-0.5b': '<oc_1>(\"threeothochdeutsch\", \"titleel_eeb798\")<oc_end>',\n",
       "  'generated_parameters_german-function-calling-model-3-epochs': '<oc_1>(\"workshop\", \"2025-03-04\", False)<oc_end>',\n",
       "  'generated_parameters_german-function-calling-orpo-0.5b-model': '<oc_1>(\"threeochstudio\", \"title (str): Der Titel des Kalendereintrags.\\n\\nRückgabe:\\nbool: True wenn der Aufruf der Kalender-API erfolgreich war\\n    -Antwort: False, wenn dem Kalendar ein dreistündiges Rockkonzert an?\\nL',\n",
       "  'generated_parameters_german-function-calling-orpo-model': '<oc_1>(\"Three Stunden Workshop\", \"YYYY-MM-DD9\")<oc_end>'},\n",
       " {'function_name': 'create_calendar_entry',\n",
       "  'query': \"Create a six-hour appointment for a New Year's Eve party on 31.12.2025 from 8 p.m.\",\n",
       "  'parameters': '<oc_1>(\"New Years Eve party\", \"2025-12-31\", \"20:00\", 360)<oc_end>',\n",
       "  'generated_parameters_english-function-calling-model': '<oc_1>(\"Study time in library\", \"2024-12-31\", \\'07:00\\', 6)<oc_end>',\n",
       "  'generated_parameters_english-function-calling-model-0.5b': '<oc_1>(\"Christmas dinner with my parents\", \"2026-12-31\", \\'07:00\\', 9)<oc_end>',\n",
       "  'generated_parameters_phi-3-english-function-calling-model': '<oc_1>(\"New year’eaece\", \"2024/12-31\". True)<oc_end>\\nFunction description: def create_calender entry(title=str): \"\"\"\"Create A one (or two hours study session in library.\"\"\"\") <OC_END>.',\n",
       "  'generated_parameters_german-function-calling-model': '<oc_1>(\"New yearesiveparty\", \"2024-12-31\", \"06:m\")<oc_end>',\n",
       "  'generated_parameters_german-function-calling-model-0.5b': '<oc_1>(\"aNewYearesee7d9\")<oc_end>',\n",
       "  'generated_parameters_german-function-calling-model-3-epochs': '<oc_1>(\"a6e7c9d41\")<oc_end>',\n",
       "  'generated_parameters_german-function-calling-orpo-0.5b-model': '<oc_1>(\"a6 Uhr\", False)<oc_end>',\n",
       "  'generated_parameters_german-function-calling-orpo-model': '<oc_1>(\"New year-12-31\", \"09:00\", 6)<oc_end>'}]"
      ]
     },
     "execution_count": 9,
     "metadata": {},
     "output_type": "execute_result"
    }
   ],
   "source": [
    "english_test_data_dicts"
   ]
  },
  {
   "cell_type": "markdown",
   "metadata": {},
   "source": [
    "### Save the Results"
   ]
  },
  {
   "cell_type": "code",
   "execution_count": 10,
   "metadata": {},
   "outputs": [],
   "source": [
    "german_results = pd.DataFrame(german_test_data_dicts)\n",
    "german_results.to_csv(\"german-results.csv\", sep=\";\", index=False)"
   ]
  },
  {
   "cell_type": "code",
   "execution_count": 11,
   "metadata": {},
   "outputs": [],
   "source": [
    "english_results = pd.DataFrame(english_test_data_dicts)\n",
    "english_results.to_csv(\"english-results.csv\", sep=\";\", index=False)"
   ]
  }
 ],
 "metadata": {
  "kernelspec": {
   "display_name": ".venv",
   "language": "python",
   "name": "python3"
  },
  "language_info": {
   "codemirror_mode": {
    "name": "ipython",
    "version": 3
   },
   "file_extension": ".py",
   "mimetype": "text/x-python",
   "name": "python",
   "nbconvert_exporter": "python",
   "pygments_lexer": "ipython3",
   "version": "3.10.12"
  }
 },
 "nbformat": 4,
 "nbformat_minor": 2
}
